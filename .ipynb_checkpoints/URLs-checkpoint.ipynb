{
 "cells": [
  {
   "cell_type": "code",
   "execution_count": 1,
   "id": "38cb393f",
   "metadata": {},
   "outputs": [],
   "source": [
    "from selenium import webdriver\n",
    "from selenium.webdriver.chrome.service import Service\n",
    "from webdriver_manager.chrome import ChromeDriverManager\n",
    "from selenium.webdriver.common.by import By\n",
    "from selenium.webdriver.chrome.options import Options\n",
    "import pandas as pd\n",
    "import time"
   ]
  },
  {
   "cell_type": "code",
   "execution_count": 2,
   "id": "c4594357",
   "metadata": {},
   "outputs": [],
   "source": [
    "# webdriver setup\n",
    "options = Options()\n",
    "options.add_argument(\"--start-maximized\")\n",
    "options.headless = False\n",
    "service = Service(\"./SeleniumWebDriver/chromedriver\")\n",
    "b = webdriver.Chrome(service=service, options=options)\n",
    "time.sleep(2)"
   ]
  },
  {
   "cell_type": "code",
   "execution_count": null,
   "id": "08de6c5c",
   "metadata": {},
   "outputs": [],
   "source": [
    "# fetch for \"news\" and \"Ukraine\" \n",
    "query = \"news+ukraine\"\n",
    "url = 'https://www.youtube.com/results?app=desktop&search_query='+query\n",
    "b.get(url)\n",
    "time.sleep(2)"
   ]
  },
  {
   "cell_type": "code",
   "execution_count": null,
   "id": "80ba99b0",
   "metadata": {},
   "outputs": [],
   "source": [
    "# scroll down until 100 videos load on the page\n",
    "while True:\n",
    "    height = b.execute_script(\"return document.documentElement.scrollHeight\")\n",
    "    b.execute_script(\"window.scrollTo(\"+str(height)+\",\"+str(height+100)+\");\")\n",
    "    time.sleep(3)\n",
    "    elements = b.find_elements(By.ID, \"video-title\")\n",
    "    if len(elements) > 100:\n",
    "        break "
   ]
  },
  {
   "cell_type": "code",
   "execution_count": null,
   "id": "19ddd006",
   "metadata": {},
   "outputs": [],
   "source": [
    "# put the URLs and video titles in lists\n",
    "time.sleep(3)\n",
    "videos = b.find_elements(By.ID, \"video-title\")\n",
    "links = [video.get_attribute(\"href\") for video in videos]\n",
    "titles = [video.text for video in videos]"
   ]
  },
  {
   "cell_type": "code",
   "execution_count": null,
   "id": "322b2ebc",
   "metadata": {},
   "outputs": [],
   "source": [
    "# turn the lists into a table\n",
    "video_links = pd.DataFrame({\"title\":titles, \"link\":links})"
   ]
  },
  {
   "cell_type": "code",
   "execution_count": null,
   "id": "d9af7740",
   "metadata": {},
   "outputs": [],
   "source": [
    "# save it to a csv file\n",
    "#video_links.to_csv(\"video_links.csv\", index=False)"
   ]
  },
  {
   "cell_type": "code",
   "execution_count": null,
   "id": "d1db6ac2",
   "metadata": {},
   "outputs": [],
   "source": [
    "b.quit()"
   ]
  }
 ],
 "metadata": {
  "kernelspec": {
   "display_name": "Python 3 (ipykernel)",
   "language": "python",
   "name": "python3"
  },
  "language_info": {
   "codemirror_mode": {
    "name": "ipython",
    "version": 3
   },
   "file_extension": ".py",
   "mimetype": "text/x-python",
   "name": "python",
   "nbconvert_exporter": "python",
   "pygments_lexer": "ipython3",
   "version": "3.8.5"
  }
 },
 "nbformat": 4,
 "nbformat_minor": 5
}
