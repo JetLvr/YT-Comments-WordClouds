{
 "cells": [
  {
   "cell_type": "code",
   "execution_count": 1,
   "id": "928bbee3",
   "metadata": {},
   "outputs": [],
   "source": [
    "from selenium import webdriver\n",
    "from selenium.webdriver.chrome.service import Service\n",
    "from webdriver_manager.chrome import ChromeDriverManager\n",
    "from selenium.webdriver.common.by import By\n",
    "from selenium.webdriver.chrome.options import Options\n",
    "from selenium.webdriver.support.ui import WebDriverWait\n",
    "from selenium.webdriver.support import expected_conditions as EC\n",
    "import pandas as pd\n",
    "import time"
   ]
  },
  {
   "cell_type": "code",
   "execution_count": 2,
   "id": "90bc5815",
   "metadata": {},
   "outputs": [],
   "source": [
    "# open dataframe\n",
    "video_links = pd.read_csv(\"video_links.csv\")\n",
    "URLs = [str(i) for i in video_links.link]"
   ]
  },
  {
   "cell_type": "code",
   "execution_count": 3,
   "id": "92037e1b",
   "metadata": {},
   "outputs": [],
   "source": [
    "def scrap(URL):\n",
    "    b.get(URL)\n",
    "    time.sleep(2)\n",
    "    b.execute_script(\"window.scrollTo(0,700)\")\n",
    "    time.sleep(1)\n",
    "    b.execute_script(\"window.scrollTo(700,1400)\")\n",
    "    time.sleep(2)\n",
    "    dic = {'author':[],'comment':[],'type':[],'author_channel':[],'channel':[],'video':[]}\n",
    "    chan = b.find_element(By.CSS_SELECTOR,\"#text > a\").text\n",
    "    flag = 0\n",
    "    \n",
    "    try:\n",
    "        wait.until(EC.visibility_of_element_located((By.CSS_SELECTOR,'#contents #comment')))\n",
    "    except:\n",
    "        return pd.DataFrame.from_dict(dic)\n",
    "    \n",
    "    while len(dic[\"comment\"]) <= 100:\n",
    "        try:\n",
    "            element = wait.until(EC.presence_of_all_elements_located((By.CSS_SELECTOR,'#contents #comment')))[flag]\n",
    "            b.execute_script(\"arguments[0].scrollIntoView();\",element)\n",
    "            author = element.find_element(By.ID, 'author-text')\n",
    "            comment = element.find_element(By.ID, 'content-text')\n",
    "            dic['author'].append(author.text)\n",
    "            dic['comment'].append(comment.text)\n",
    "            dic['type'].append('main')\n",
    "            dic['author_channel'].append(author.get_attribute('href'))   \n",
    "            dic['channel'].append(chan)\n",
    "            dic['video'].append(URL)\n",
    "            replies = element.find_element(By.XPATH,'..//*[@id=\"replies\"]') \n",
    "            if replies.text.startswith('View'):\n",
    "                rep_btt = replies.find_element(By.CSS_SELECTOR,'a')\n",
    "                b.execute_script(\"arguments[0].click()\",rep_btt)\n",
    "                reply_wait = WebDriverWait(replies, 10, poll_frequency=1)\n",
    "                while True:\n",
    "                    r1 = reply_wait.until(EC.presence_of_all_elements_located((By.ID,'author-text')))\n",
    "                    b.execute_script(\"arguments[0].scrollIntoView();\", r1[-1])\n",
    "                    r2 = reply_wait.until(EC.presence_of_all_elements_located((By.ID,'author-text')))\n",
    "                    b.execute_script(\"arguments[0].scrollIntoView();\", r2[-1])\n",
    "                    if len(r1)==len(r2):\n",
    "                        break\n",
    "                while True:\n",
    "                    try:\n",
    "                        load = replies.find_element(By.CSS_SELECTOR,\"#contents > ytd-continuation-item-renderer\")\n",
    "                        load_bttn = load.find_element(By.CSS_SELECTOR,\"a\") \n",
    "                        b.execute_script(\"arguments[0].click()\",load_bttn)\n",
    "                        r3 = reply_wait.until(EC.presence_of_all_elements_located((By.ID,'author-text')))\n",
    "                        b.execute_script(\"arguments[0].scrollIntoView();\", r3[-1])\n",
    "                        reply_wait.until(EC.presence_of_all_elements_located((By.ID,'author-text')))\n",
    "                    except: \n",
    "                        break\n",
    "                        \n",
    "                # get all the replies for this comment\n",
    "                for reply_comm in replies.find_elements(By.ID,'content-text'):\n",
    "                    dic['comment'].append(reply_comm.text)\n",
    "                    dic['type'].append('reply')\n",
    "                \n",
    "                for reply_auth in replies.find_elements(By.ID,'author-text'):\n",
    "                    dic['author'].append(reply_auth.text)\n",
    "                    dic['author_channel'].append(reply_auth.get_attribute('href'))   \n",
    "                    dic['channel'].append(chan)\n",
    "                    dic['video'].append(URL)\n",
    "                 \n",
    "            flag += 1\n",
    "        except:\n",
    "            break\n",
    "    return pd.DataFrame.from_dict(dic) "
   ]
  },
  {
   "cell_type": "code",
   "execution_count": 4,
   "id": "286a22d1",
   "metadata": {},
   "outputs": [],
   "source": [
    "df = pd.DataFrame({'author':[],'comment':[],'type':[],'author_channel':[],'channel':[],'video':[]})\n",
    "videos = [str(i) for i in df.video]"
   ]
  },
  {
   "cell_type": "code",
   "execution_count": null,
   "id": "f9145911",
   "metadata": {},
   "outputs": [],
   "source": [
    "for URL in URLs:\n",
    "    if URL not in videos:\n",
    "        options = Options()\n",
    "        options.add_argument(\"--start-maximized\")\n",
    "        options.headless = False\n",
    "        service = Service(\"./SeleniumWebDriver/chromedriver\")\n",
    "        b = webdriver.Chrome(service=service, options=options)\n",
    "        wait = WebDriverWait(b, 10, poll_frequency=1)\n",
    "        time.sleep(2)\n",
    "        df = pd.concat([df,scrap(URL)], ignore_index=True)\n",
    "        b.quit()"
   ]
  },
  {
   "cell_type": "code",
   "execution_count": 5,
   "id": "d46b016e",
   "metadata": {},
   "outputs": [],
   "source": [
    "#new_df.to_csv('comments.csv', index=False)"
   ]
  }
 ],
 "metadata": {
  "kernelspec": {
   "display_name": "Python 3 (ipykernel)",
   "language": "python",
   "name": "python3"
  },
  "language_info": {
   "codemirror_mode": {
    "name": "ipython",
    "version": 3
   },
   "file_extension": ".py",
   "mimetype": "text/x-python",
   "name": "python",
   "nbconvert_exporter": "python",
   "pygments_lexer": "ipython3",
   "version": "3.8.5"
  }
 },
 "nbformat": 4,
 "nbformat_minor": 5
}
